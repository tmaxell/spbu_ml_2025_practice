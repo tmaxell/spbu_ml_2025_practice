{
 "cells": [
  {
   "cell_type": "code",
   "execution_count": null,
   "id": "d5bbb5cf",
   "metadata": {},
   "outputs": [],
   "source": [
    "import pandas as pd\n",
    "import numpy as np\n",
    "import re\n",
    "from sklearn.model_selection import train_test_split\n",
    "from sklearn.preprocessing import LabelEncoder\n",
    "import nltk\n",
    "from sklearn.feature_extraction.text import TfidfVectorizer\n",
    "from nltk.corpus import stopwords\n",
    "from scipy.sparse import hstack"
   ]
  },
  {
   "cell_type": "code",
   "execution_count": 7,
   "id": "57896730",
   "metadata": {},
   "outputs": [],
   "source": [
    "train = pd.read_csv(\"data/train.csv\")\n",
    "test = pd.read_csv(\"data/test.csv\")\n",
    "store = pd.read_csv(\"data/steam_store_data_2024.csv\")\n",
    "spy = pd.read_csv(\"data/output_steamspy.csv\")"
   ]
  },
  {
   "cell_type": "code",
   "execution_count": 8,
   "id": "f0255d93",
   "metadata": {},
   "outputs": [],
   "source": [
    "# тут попробуем обработать spy датасетик\n",
    "def parse_owners(owners_range):\n",
    "    try:\n",
    "        low, high = owners_range.replace(\",\", \"\").split(\" .. \")\n",
    "        return (int(low) + int(high)) // 2\n",
    "    except:\n",
    "        return np.nan\n",
    "\n",
    "spy[\"owners_est\"] = spy[\"owners\"].apply(parse_owners)\n",
    "\n",
    "spy.rename(columns={\"appid\": \"app_id\"}, inplace=True)"
   ]
  },
  {
   "cell_type": "code",
   "execution_count": 9,
   "id": "52f369e2",
   "metadata": {},
   "outputs": [],
   "source": [
    "# аналогично для стора\n",
    "def parse_price(price_str):\n",
    "    try:\n",
    "        return float(price_str.replace(\"$\", \"\"))\n",
    "    except:\n",
    "        return np.nan\n",
    "\n",
    "def parse_discount(sale_str):\n",
    "    try:\n",
    "        return int(sale_str.replace(\"-\", \"\").replace(\"%\", \"\"))\n",
    "    except:\n",
    "        return 0\n",
    "\n",
    "store[\"price_num\"] = store[\"price\"].apply(parse_price)\n",
    "store[\"sale_pct\"] = store[\"salePercentage\"].apply(parse_discount)\n",
    "\n",
    "# закодируем LabelEncoder\n",
    "for col in [\"recentReviews\", \"allReviews\"]:\n",
    "    store[col] = store[col].astype(str)\n",
    "    le = LabelEncoder()\n",
    "    store[col + \"_enc\"] = le.fit_transform(store[col])\n",
    "\n",
    "# переименуем для join\n",
    "store.rename(columns={\"title\": \"name\"}, inplace=True)"
   ]
  },
  {
   "cell_type": "code",
   "execution_count": 10,
   "id": "0f1637a1",
   "metadata": {},
   "outputs": [],
   "source": [
    "game_data = pd.merge(spy, store, on=\"name\", how=\"inner\")\n",
    "game_data_small = game_data[[\"app_id\", \"owners_est\", \"price_num\", \"sale_pct\", \"recentReviews_enc\", \"allReviews_enc\"]]"
   ]
  },
  {
   "cell_type": "code",
   "execution_count": 11,
   "id": "d8f38f6e",
   "metadata": {},
   "outputs": [],
   "source": [
    "train_full = pd.merge(train, game_data_small, on=\"app_id\", how=\"left\")\n",
    "test_full = pd.merge(test, game_data_small, on=\"app_id\", how=\"left\")"
   ]
  },
  {
   "cell_type": "code",
   "execution_count": null,
   "id": "b7d6745b",
   "metadata": {},
   "outputs": [
    {
     "name": "stderr",
     "output_type": "stream",
     "text": [
      "[nltk_data] Downloading package stopwords to\n",
      "[nltk_data]     /Users/tmaxell/nltk_data...\n",
      "[nltk_data]   Unzipping corpora/stopwords.zip.\n"
     ]
    }
   ],
   "source": [
    "# обработаем текст\n",
    "nltk.download(\"stopwords\")\n",
    "stop_words = set(stopwords.words(\"english\"))\n",
    "\n",
    "def clean_text(text):\n",
    "    if pd.isna(text):\n",
    "        return \"\"\n",
    "    text = text.lower()\n",
    "    text = re.sub(r\"[^a-zA-Z0-9\\s]\", \" \", text)\n",
    "    tokens = text.split()\n",
    "    tokens = [word for word in tokens if word not in stop_words and len(word) > 2]\n",
    "    return \" \".join(tokens)\n",
    "\n",
    "train_full[\"clean_content\"] = train_full[\"content\"].apply(clean_text)\n",
    "test_full[\"clean_content\"] = test_full[\"content\"].apply(clean_text)"
   ]
  },
  {
   "cell_type": "code",
   "execution_count": null,
   "id": "ad09d8d4",
   "metadata": {},
   "outputs": [],
   "source": [
    "tfidf = TfidfVectorizer(max_features=10000, ngram_range=(1, 2))\n",
    "X_text_train = tfidf.fit_transform(train_full[\"clean_content\"])\n",
    "X_text_test = tfidf.transform(test_full[\"clean_content\"])"
   ]
  },
  {
   "cell_type": "code",
   "execution_count": null,
   "id": "381c7316",
   "metadata": {},
   "outputs": [],
   "source": [
    "numeric_cols = [\"owners_est\", \"price_num\", \"sale_pct\", \"recentReviews_enc\", \"allReviews_enc\"]\n",
    "X_numeric_train = train_full[numeric_cols].fillna(0)\n",
    "X_numeric_test = test_full[numeric_cols].fillna(0)"
   ]
  },
  {
   "cell_type": "code",
   "execution_count": null,
   "id": "5dd96aab",
   "metadata": {},
   "outputs": [],
   "source": [
    "X_train = hstack([X_text_train, X_numeric_train])\n",
    "X_test = hstack([X_text_test, X_numeric_test])\n",
    "y_train = train_full[\"is_positive\"]"
   ]
  }
 ],
 "metadata": {
  "kernelspec": {
   "display_name": "base",
   "language": "python",
   "name": "python3"
  },
  "language_info": {
   "codemirror_mode": {
    "name": "ipython",
    "version": 3
   },
   "file_extension": ".py",
   "mimetype": "text/x-python",
   "name": "python",
   "nbconvert_exporter": "python",
   "pygments_lexer": "ipython3",
   "version": "3.11.7"
  }
 },
 "nbformat": 4,
 "nbformat_minor": 5
}
