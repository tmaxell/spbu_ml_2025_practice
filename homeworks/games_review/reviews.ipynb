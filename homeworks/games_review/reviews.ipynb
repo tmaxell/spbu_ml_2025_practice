{
 "cells": [
  {
   "cell_type": "code",
   "execution_count": 1,
   "id": "d5bbb5cf",
   "metadata": {},
   "outputs": [],
   "source": [
    "import pandas as pd\n",
    "import numpy as np\n",
    "import re\n",
    "from sklearn.model_selection import train_test_split\n",
    "from sklearn.preprocessing import LabelEncoder"
   ]
  },
  {
   "cell_type": "code",
   "execution_count": 2,
   "id": "57896730",
   "metadata": {},
   "outputs": [],
   "source": [
    "train = pd.read_csv(\"data/train.csv\")\n",
    "test = pd.read_csv(\"data/test.csv\")\n",
    "store = pd.read_csv(\"data/steam_store_data_2024.csv\")\n",
    "spy = pd.read_csv(\"data/output_steamspy.csv\")"
   ]
  },
  {
   "cell_type": "code",
   "execution_count": 3,
   "id": "f0255d93",
   "metadata": {},
   "outputs": [],
   "source": [
    "# тут попробуем обработать spy датасетик\n",
    "def parse_owners(owners_range):\n",
    "    try:\n",
    "        low, high = owners_range.replace(\",\", \"\").split(\" .. \")\n",
    "        return (int(low) + int(high)) // 2\n",
    "    except:\n",
    "        return np.nan\n",
    "\n",
    "spy[\"owners_est\"] = spy[\"owners\"].apply(parse_owners)"
   ]
  }
 ],
 "metadata": {
  "kernelspec": {
   "display_name": "base",
   "language": "python",
   "name": "python3"
  },
  "language_info": {
   "codemirror_mode": {
    "name": "ipython",
    "version": 3
   },
   "file_extension": ".py",
   "mimetype": "text/x-python",
   "name": "python",
   "nbconvert_exporter": "python",
   "pygments_lexer": "ipython3",
   "version": "3.11.7"
  }
 },
 "nbformat": 4,
 "nbformat_minor": 5
}
